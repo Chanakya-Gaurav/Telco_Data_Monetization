{
 "cells": [
  {
   "cell_type": "markdown",
   "metadata": {},
   "source": [
    "#### Telecom Location Data Monetization - Point of Interests (POI)"
   ]
  },
  {
   "cell_type": "code",
   "execution_count": 8,
   "metadata": {},
   "outputs": [
    {
     "data": {
      "application/vnd.plotly.v1+json": {
       "config": {
        "plotlyServerURL": "https://plot.ly"
       },
       "data": [
        {
         "customdata": [
          [
           51.4993,
           -0.1273,
           3127
          ],
          [
           51.5007,
           -0.1246,
           512
          ],
          [
           51.5014,
           -0.1419,
           2103
          ],
          [
           51.508,
           -0.1281,
           2246
          ],
          [
           51.5098,
           -0.1342,
           2935
          ],
          [
           51.5033,
           -0.1195,
           4669
          ],
          [
           51.509,
           -0.1283,
           1089
          ],
          [
           51.4995,
           -0.1248,
           1819
          ],
          [
           51.5049,
           -0.1357,
           3268
          ],
          [
           51.5111,
           -0.128,
           1326
          ],
          [
           51.512,
           -0.13,
           3794
          ],
          [
           51.5053,
           -0.1168,
           4685
          ],
          [
           51.5194,
           -0.127,
           3720
          ],
          [
           51.5081,
           -0.0972,
           707
          ],
          [
           51.5081,
           -0.0983,
           2037
          ],
          [
           51.5055,
           -0.0754,
           4448
          ],
          [
           51.5081,
           -0.0761,
           1185
          ],
          [
           51.5045,
           -0.0865,
           2857
          ],
          [
           51.4967,
           -0.1764,
           3015
          ],
          [
           51.4978,
           -0.1745,
           2178
          ],
          [
           51.4966,
           -0.1722,
           574
          ],
          [
           51.4957,
           -0.1082,
           160
          ],
          [
           51.5048,
           -0.1744,
           4835
          ],
          [
           51.5122,
           -0.1204,
           929
          ],
          [
           51.5145,
           -0.0804,
           3663
          ],
          [
           51.5106,
           -0.0837,
           2644
          ]
         ],
         "hovertemplate": "<b>%{hovertext}</b><br><br>category=Tourist Attraction<br>visit_count=%{customdata[2]}<br>latitude=%{customdata[0]}<br>longitude=%{customdata[1]}<extra></extra>",
         "hovertext": [
          "Westminster Abbey",
          "Big Ben",
          "Buckingham Palace",
          "Trafalgar Square",
          "Piccadilly Circus",
          "London Eye",
          "The National Gallery",
          "Houses of Parliament",
          "The Mall",
          "Leicester Square",
          "West End Theatre District",
          "Southbank Centre",
          "British Museum",
          "Shakespeare's Globe",
          "Millennium Bridge",
          "Tower Bridge",
          "Tower of London",
          "Shard London",
          "Natural History Museum",
          "Science Museum",
          "Victoria and Albert Museum",
          "Imperial War Museum",
          "Serpentine Galleries",
          "London Transport Museum",
          "The Gherkin",
          "The Walkie Talkie"
         ],
         "lat": [
          51.4993,
          51.5007,
          51.5014,
          51.508,
          51.5098,
          51.5033,
          51.509,
          51.4995,
          51.5049,
          51.5111,
          51.512,
          51.5053,
          51.5194,
          51.5081,
          51.5081,
          51.5055,
          51.5081,
          51.5045,
          51.4967,
          51.4978,
          51.4966,
          51.4957,
          51.5048,
          51.5122,
          51.5145,
          51.5106
         ],
         "legendgroup": "Tourist Attraction",
         "lon": [
          -0.1273,
          -0.1246,
          -0.1419,
          -0.1281,
          -0.1342,
          -0.1195,
          -0.1283,
          -0.1248,
          -0.1357,
          -0.128,
          -0.13,
          -0.1168,
          -0.127,
          -0.0972,
          -0.0983,
          -0.0754,
          -0.0761,
          -0.0865,
          -0.1764,
          -0.1745,
          -0.1722,
          -0.1082,
          -0.1744,
          -0.1204,
          -0.0804,
          -0.0837
         ],
         "marker": {
          "color": "#636efa",
          "size": [
           3127,
           512,
           2103,
           2246,
           2935,
           4669,
           1089,
           1819,
           3268,
           1326,
           3794,
           4685,
           3720,
           707,
           2037,
           4448,
           1185,
           2857,
           3015,
           2178,
           574,
           160,
           4835,
           929,
           3663,
           2644
          ],
          "sizemode": "area",
          "sizeref": 12.36
         },
         "mode": "markers",
         "name": "Tourist Attraction",
         "showlegend": true,
         "subplot": "mapbox",
         "type": "scattermapbox"
        },
        {
         "customdata": [
          [
           51.5023,
           -0.1346,
           4631
          ],
          [
           51.5073,
           -0.1657,
           2095
          ],
          [
           51.5069,
           -0.1427,
           3212
          ],
          [
           51.5313,
           -0.1569,
           4739
          ],
          [
           51.5058,
           -0.1878,
           2260
          ],
          [
           51.5605,
           -0.1657,
           335
          ],
          [
           51.5238,
           -0.1249,
           4944
          ]
         ],
         "hovertemplate": "<b>%{hovertext}</b><br><br>category=Park<br>visit_count=%{customdata[2]}<br>latitude=%{customdata[0]}<br>longitude=%{customdata[1]}<extra></extra>",
         "hovertext": [
          "St. James's Park",
          "Hyde Park",
          "Green Park",
          "Regent's Park",
          "Kensington Gardens",
          "Hampstead Heath",
          "Russell Square"
         ],
         "lat": [
          51.5023,
          51.5073,
          51.5069,
          51.5313,
          51.5058,
          51.5605,
          51.5238
         ],
         "legendgroup": "Park",
         "lon": [
          -0.1346,
          -0.1657,
          -0.1427,
          -0.1569,
          -0.1878,
          -0.1657,
          -0.1249
         ],
         "marker": {
          "color": "#EF553B",
          "size": [
           4631,
           2095,
           3212,
           4739,
           2260,
           335,
           4944
          ],
          "sizemode": "area",
          "sizeref": 12.36
         },
         "mode": "markers",
         "name": "Park",
         "showlegend": true,
         "subplot": "mapbox",
         "type": "scattermapbox"
        },
        {
         "customdata": [
          [
           51.4964,
           -0.1431,
           1188
          ],
          [
           51.508,
           -0.1247,
           249
          ],
          [
           51.5154,
           -0.1757,
           1630
          ],
          [
           51.5036,
           -0.1137,
           4085
          ],
          [
           51.5312,
           -0.1241,
           694
          ],
          [
           51.5175,
           -0.1192,
           3003
          ]
         ],
         "hovertemplate": "<b>%{hovertext}</b><br><br>category=Transport<br>visit_count=%{customdata[2]}<br>latitude=%{customdata[0]}<br>longitude=%{customdata[1]}<extra></extra>",
         "hovertext": [
          "Victoria Station",
          "Charing Cross Station",
          "Paddington Station",
          "Waterloo Station",
          "King's Cross Station",
          "Holborn Station"
         ],
         "lat": [
          51.4964,
          51.508,
          51.5154,
          51.5036,
          51.5312,
          51.5175
         ],
         "legendgroup": "Transport",
         "lon": [
          -0.1431,
          -0.1247,
          -0.1757,
          -0.1137,
          -0.1241,
          -0.1192
         ],
         "marker": {
          "color": "#00cc96",
          "size": [
           1188,
           249,
           1630,
           4085,
           694,
           3003
          ],
          "sizemode": "area",
          "sizeref": 12.36
         },
         "mode": "markers",
         "name": "Transport",
         "showlegend": true,
         "subplot": "mapbox",
         "type": "scattermapbox"
        },
        {
         "customdata": [
          [
           51.5154,
           -0.1419,
           2237
          ],
          [
           51.5115,
           -0.1234,
           4741
          ],
          [
           51.5136,
           -0.1312,
           2561
          ],
          [
           51.5414,
           -0.1455,
           2813
          ],
          [
           51.4995,
           -0.1633,
           3949
          ],
          [
           51.5134,
           -0.1407,
           552
          ],
          [
           51.5178,
           -0.2059,
           3604
          ],
          [
           51.5185,
           -0.1358,
           2838
          ]
         ],
         "hovertemplate": "<b>%{hovertext}</b><br><br>category=Shopping<br>visit_count=%{customdata[2]}<br>latitude=%{customdata[0]}<br>longitude=%{customdata[1]}<extra></extra>",
         "hovertext": [
          "Oxford Circus",
          "Covent Garden",
          "Soho",
          "Camden Market",
          "Harrods",
          "Carnaby Street",
          "Portobello Road Market",
          "Fitzrovia"
         ],
         "lat": [
          51.5154,
          51.5115,
          51.5136,
          51.5414,
          51.4995,
          51.5134,
          51.5178,
          51.5185
         ],
         "legendgroup": "Shopping",
         "lon": [
          -0.1419,
          -0.1234,
          -0.1312,
          -0.1455,
          -0.1633,
          -0.1407,
          -0.2059,
          -0.1358
         ],
         "marker": {
          "color": "#ab63fa",
          "size": [
           2237,
           4741,
           2561,
           2813,
           3949,
           552,
           3604,
           2838
          ],
          "sizemode": "area",
          "sizeref": 12.36
         },
         "mode": "markers",
         "name": "Shopping",
         "showlegend": true,
         "subplot": "mapbox",
         "type": "scattermapbox"
        },
        {
         "lat": [
          51.4993,
          51.5007,
          51.5014,
          51.508,
          51.5023,
          51.5073,
          51.4964,
          51.5098,
          51.5033,
          51.509,
          51.4995,
          51.5049,
          51.5069,
          51.5313,
          51.5154,
          51.5115,
          51.5111,
          51.5136,
          51.512,
          51.508,
          51.5154,
          51.5053,
          51.5036,
          51.5312,
          51.5194,
          51.5081,
          51.5081,
          51.5055,
          51.5081,
          51.5045,
          51.5414,
          51.4995,
          51.4967,
          51.4978,
          51.4966,
          51.4957,
          51.5058,
          51.5605,
          51.5048,
          51.5134,
          51.5178,
          51.5175,
          51.5238,
          51.5185,
          51.5122,
          51.5145,
          51.5106
         ],
         "lon": [
          -0.1273,
          -0.1246,
          -0.1419,
          -0.1281,
          -0.1346,
          -0.1657,
          -0.1431,
          -0.1342,
          -0.1195,
          -0.1283,
          -0.1248,
          -0.1357,
          -0.1427,
          -0.1569,
          -0.1419,
          -0.1234,
          -0.128,
          -0.1312,
          -0.13,
          -0.1247,
          -0.1757,
          -0.1168,
          -0.1137,
          -0.1241,
          -0.127,
          -0.0972,
          -0.0983,
          -0.0754,
          -0.0761,
          -0.0865,
          -0.1455,
          -0.1633,
          -0.1764,
          -0.1745,
          -0.1722,
          -0.1082,
          -0.1878,
          -0.1657,
          -0.1744,
          -0.1407,
          -0.2059,
          -0.1192,
          -0.1249,
          -0.1358,
          -0.1204,
          -0.0804,
          -0.0837
         ],
         "marker": {
          "color": "red",
          "size": 10
         },
         "mode": "markers",
         "name": "POI Markers",
         "text": [
          "Westminster Abbey",
          "Big Ben",
          "Buckingham Palace",
          "Trafalgar Square",
          "St. James's Park",
          "Hyde Park",
          "Victoria Station",
          "Piccadilly Circus",
          "London Eye",
          "The National Gallery",
          "Houses of Parliament",
          "The Mall",
          "Green Park",
          "Regent's Park",
          "Oxford Circus",
          "Covent Garden",
          "Leicester Square",
          "Soho",
          "West End Theatre District",
          "Charing Cross Station",
          "Paddington Station",
          "Southbank Centre",
          "Waterloo Station",
          "King's Cross Station",
          "British Museum",
          "Shakespeare's Globe",
          "Millennium Bridge",
          "Tower Bridge",
          "Tower of London",
          "Shard London",
          "Camden Market",
          "Harrods",
          "Natural History Museum",
          "Science Museum",
          "Victoria and Albert Museum",
          "Imperial War Museum",
          "Kensington Gardens",
          "Hampstead Heath",
          "Serpentine Galleries",
          "Carnaby Street",
          "Portobello Road Market",
          "Holborn Station",
          "Russell Square",
          "Fitzrovia",
          "London Transport Museum",
          "The Gherkin",
          "The Walkie Talkie"
         ],
         "type": "scattermapbox"
        }
       ],
       "layout": {
        "legend": {
         "itemsizing": "constant",
         "title": {
          "text": "category"
         },
         "tracegroupgap": 0
        },
        "mapbox": {
         "center": {
          "lat": 51.5103829787234,
          "lon": -0.1331148936170213
         },
         "domain": {
          "x": [
           0,
           1
          ],
          "y": [
           0,
           1
          ]
         },
         "style": "open-street-map",
         "zoom": 14
        },
        "template": {
         "data": {
          "bar": [
           {
            "error_x": {
             "color": "#2a3f5f"
            },
            "error_y": {
             "color": "#2a3f5f"
            },
            "marker": {
             "line": {
              "color": "#E5ECF6",
              "width": 0.5
             },
             "pattern": {
              "fillmode": "overlay",
              "size": 10,
              "solidity": 0.2
             }
            },
            "type": "bar"
           }
          ],
          "barpolar": [
           {
            "marker": {
             "line": {
              "color": "#E5ECF6",
              "width": 0.5
             },
             "pattern": {
              "fillmode": "overlay",
              "size": 10,
              "solidity": 0.2
             }
            },
            "type": "barpolar"
           }
          ],
          "carpet": [
           {
            "aaxis": {
             "endlinecolor": "#2a3f5f",
             "gridcolor": "white",
             "linecolor": "white",
             "minorgridcolor": "white",
             "startlinecolor": "#2a3f5f"
            },
            "baxis": {
             "endlinecolor": "#2a3f5f",
             "gridcolor": "white",
             "linecolor": "white",
             "minorgridcolor": "white",
             "startlinecolor": "#2a3f5f"
            },
            "type": "carpet"
           }
          ],
          "choropleth": [
           {
            "colorbar": {
             "outlinewidth": 0,
             "ticks": ""
            },
            "type": "choropleth"
           }
          ],
          "contour": [
           {
            "colorbar": {
             "outlinewidth": 0,
             "ticks": ""
            },
            "colorscale": [
             [
              0,
              "#0d0887"
             ],
             [
              0.1111111111111111,
              "#46039f"
             ],
             [
              0.2222222222222222,
              "#7201a8"
             ],
             [
              0.3333333333333333,
              "#9c179e"
             ],
             [
              0.4444444444444444,
              "#bd3786"
             ],
             [
              0.5555555555555556,
              "#d8576b"
             ],
             [
              0.6666666666666666,
              "#ed7953"
             ],
             [
              0.7777777777777778,
              "#fb9f3a"
             ],
             [
              0.8888888888888888,
              "#fdca26"
             ],
             [
              1,
              "#f0f921"
             ]
            ],
            "type": "contour"
           }
          ],
          "contourcarpet": [
           {
            "colorbar": {
             "outlinewidth": 0,
             "ticks": ""
            },
            "type": "contourcarpet"
           }
          ],
          "heatmap": [
           {
            "colorbar": {
             "outlinewidth": 0,
             "ticks": ""
            },
            "colorscale": [
             [
              0,
              "#0d0887"
             ],
             [
              0.1111111111111111,
              "#46039f"
             ],
             [
              0.2222222222222222,
              "#7201a8"
             ],
             [
              0.3333333333333333,
              "#9c179e"
             ],
             [
              0.4444444444444444,
              "#bd3786"
             ],
             [
              0.5555555555555556,
              "#d8576b"
             ],
             [
              0.6666666666666666,
              "#ed7953"
             ],
             [
              0.7777777777777778,
              "#fb9f3a"
             ],
             [
              0.8888888888888888,
              "#fdca26"
             ],
             [
              1,
              "#f0f921"
             ]
            ],
            "type": "heatmap"
           }
          ],
          "heatmapgl": [
           {
            "colorbar": {
             "outlinewidth": 0,
             "ticks": ""
            },
            "colorscale": [
             [
              0,
              "#0d0887"
             ],
             [
              0.1111111111111111,
              "#46039f"
             ],
             [
              0.2222222222222222,
              "#7201a8"
             ],
             [
              0.3333333333333333,
              "#9c179e"
             ],
             [
              0.4444444444444444,
              "#bd3786"
             ],
             [
              0.5555555555555556,
              "#d8576b"
             ],
             [
              0.6666666666666666,
              "#ed7953"
             ],
             [
              0.7777777777777778,
              "#fb9f3a"
             ],
             [
              0.8888888888888888,
              "#fdca26"
             ],
             [
              1,
              "#f0f921"
             ]
            ],
            "type": "heatmapgl"
           }
          ],
          "histogram": [
           {
            "marker": {
             "pattern": {
              "fillmode": "overlay",
              "size": 10,
              "solidity": 0.2
             }
            },
            "type": "histogram"
           }
          ],
          "histogram2d": [
           {
            "colorbar": {
             "outlinewidth": 0,
             "ticks": ""
            },
            "colorscale": [
             [
              0,
              "#0d0887"
             ],
             [
              0.1111111111111111,
              "#46039f"
             ],
             [
              0.2222222222222222,
              "#7201a8"
             ],
             [
              0.3333333333333333,
              "#9c179e"
             ],
             [
              0.4444444444444444,
              "#bd3786"
             ],
             [
              0.5555555555555556,
              "#d8576b"
             ],
             [
              0.6666666666666666,
              "#ed7953"
             ],
             [
              0.7777777777777778,
              "#fb9f3a"
             ],
             [
              0.8888888888888888,
              "#fdca26"
             ],
             [
              1,
              "#f0f921"
             ]
            ],
            "type": "histogram2d"
           }
          ],
          "histogram2dcontour": [
           {
            "colorbar": {
             "outlinewidth": 0,
             "ticks": ""
            },
            "colorscale": [
             [
              0,
              "#0d0887"
             ],
             [
              0.1111111111111111,
              "#46039f"
             ],
             [
              0.2222222222222222,
              "#7201a8"
             ],
             [
              0.3333333333333333,
              "#9c179e"
             ],
             [
              0.4444444444444444,
              "#bd3786"
             ],
             [
              0.5555555555555556,
              "#d8576b"
             ],
             [
              0.6666666666666666,
              "#ed7953"
             ],
             [
              0.7777777777777778,
              "#fb9f3a"
             ],
             [
              0.8888888888888888,
              "#fdca26"
             ],
             [
              1,
              "#f0f921"
             ]
            ],
            "type": "histogram2dcontour"
           }
          ],
          "mesh3d": [
           {
            "colorbar": {
             "outlinewidth": 0,
             "ticks": ""
            },
            "type": "mesh3d"
           }
          ],
          "parcoords": [
           {
            "line": {
             "colorbar": {
              "outlinewidth": 0,
              "ticks": ""
             }
            },
            "type": "parcoords"
           }
          ],
          "pie": [
           {
            "automargin": true,
            "type": "pie"
           }
          ],
          "scatter": [
           {
            "fillpattern": {
             "fillmode": "overlay",
             "size": 10,
             "solidity": 0.2
            },
            "type": "scatter"
           }
          ],
          "scatter3d": [
           {
            "line": {
             "colorbar": {
              "outlinewidth": 0,
              "ticks": ""
             }
            },
            "marker": {
             "colorbar": {
              "outlinewidth": 0,
              "ticks": ""
             }
            },
            "type": "scatter3d"
           }
          ],
          "scattercarpet": [
           {
            "marker": {
             "colorbar": {
              "outlinewidth": 0,
              "ticks": ""
             }
            },
            "type": "scattercarpet"
           }
          ],
          "scattergeo": [
           {
            "marker": {
             "colorbar": {
              "outlinewidth": 0,
              "ticks": ""
             }
            },
            "type": "scattergeo"
           }
          ],
          "scattergl": [
           {
            "marker": {
             "colorbar": {
              "outlinewidth": 0,
              "ticks": ""
             }
            },
            "type": "scattergl"
           }
          ],
          "scattermapbox": [
           {
            "marker": {
             "colorbar": {
              "outlinewidth": 0,
              "ticks": ""
             }
            },
            "type": "scattermapbox"
           }
          ],
          "scatterpolar": [
           {
            "marker": {
             "colorbar": {
              "outlinewidth": 0,
              "ticks": ""
             }
            },
            "type": "scatterpolar"
           }
          ],
          "scatterpolargl": [
           {
            "marker": {
             "colorbar": {
              "outlinewidth": 0,
              "ticks": ""
             }
            },
            "type": "scatterpolargl"
           }
          ],
          "scatterternary": [
           {
            "marker": {
             "colorbar": {
              "outlinewidth": 0,
              "ticks": ""
             }
            },
            "type": "scatterternary"
           }
          ],
          "surface": [
           {
            "colorbar": {
             "outlinewidth": 0,
             "ticks": ""
            },
            "colorscale": [
             [
              0,
              "#0d0887"
             ],
             [
              0.1111111111111111,
              "#46039f"
             ],
             [
              0.2222222222222222,
              "#7201a8"
             ],
             [
              0.3333333333333333,
              "#9c179e"
             ],
             [
              0.4444444444444444,
              "#bd3786"
             ],
             [
              0.5555555555555556,
              "#d8576b"
             ],
             [
              0.6666666666666666,
              "#ed7953"
             ],
             [
              0.7777777777777778,
              "#fb9f3a"
             ],
             [
              0.8888888888888888,
              "#fdca26"
             ],
             [
              1,
              "#f0f921"
             ]
            ],
            "type": "surface"
           }
          ],
          "table": [
           {
            "cells": {
             "fill": {
              "color": "#EBF0F8"
             },
             "line": {
              "color": "white"
             }
            },
            "header": {
             "fill": {
              "color": "#C8D4E3"
             },
             "line": {
              "color": "white"
             }
            },
            "type": "table"
           }
          ]
         },
         "layout": {
          "annotationdefaults": {
           "arrowcolor": "#2a3f5f",
           "arrowhead": 0,
           "arrowwidth": 1
          },
          "autotypenumbers": "strict",
          "coloraxis": {
           "colorbar": {
            "outlinewidth": 0,
            "ticks": ""
           }
          },
          "colorscale": {
           "diverging": [
            [
             0,
             "#8e0152"
            ],
            [
             0.1,
             "#c51b7d"
            ],
            [
             0.2,
             "#de77ae"
            ],
            [
             0.3,
             "#f1b6da"
            ],
            [
             0.4,
             "#fde0ef"
            ],
            [
             0.5,
             "#f7f7f7"
            ],
            [
             0.6,
             "#e6f5d0"
            ],
            [
             0.7,
             "#b8e186"
            ],
            [
             0.8,
             "#7fbc41"
            ],
            [
             0.9,
             "#4d9221"
            ],
            [
             1,
             "#276419"
            ]
           ],
           "sequential": [
            [
             0,
             "#0d0887"
            ],
            [
             0.1111111111111111,
             "#46039f"
            ],
            [
             0.2222222222222222,
             "#7201a8"
            ],
            [
             0.3333333333333333,
             "#9c179e"
            ],
            [
             0.4444444444444444,
             "#bd3786"
            ],
            [
             0.5555555555555556,
             "#d8576b"
            ],
            [
             0.6666666666666666,
             "#ed7953"
            ],
            [
             0.7777777777777778,
             "#fb9f3a"
            ],
            [
             0.8888888888888888,
             "#fdca26"
            ],
            [
             1,
             "#f0f921"
            ]
           ],
           "sequentialminus": [
            [
             0,
             "#0d0887"
            ],
            [
             0.1111111111111111,
             "#46039f"
            ],
            [
             0.2222222222222222,
             "#7201a8"
            ],
            [
             0.3333333333333333,
             "#9c179e"
            ],
            [
             0.4444444444444444,
             "#bd3786"
            ],
            [
             0.5555555555555556,
             "#d8576b"
            ],
            [
             0.6666666666666666,
             "#ed7953"
            ],
            [
             0.7777777777777778,
             "#fb9f3a"
            ],
            [
             0.8888888888888888,
             "#fdca26"
            ],
            [
             1,
             "#f0f921"
            ]
           ]
          },
          "colorway": [
           "#636efa",
           "#EF553B",
           "#00cc96",
           "#ab63fa",
           "#FFA15A",
           "#19d3f3",
           "#FF6692",
           "#B6E880",
           "#FF97FF",
           "#FECB52"
          ],
          "font": {
           "color": "#2a3f5f"
          },
          "geo": {
           "bgcolor": "white",
           "lakecolor": "white",
           "landcolor": "#E5ECF6",
           "showlakes": true,
           "showland": true,
           "subunitcolor": "white"
          },
          "hoverlabel": {
           "align": "left"
          },
          "hovermode": "closest",
          "mapbox": {
           "style": "light"
          },
          "paper_bgcolor": "white",
          "plot_bgcolor": "#E5ECF6",
          "polar": {
           "angularaxis": {
            "gridcolor": "white",
            "linecolor": "white",
            "ticks": ""
           },
           "bgcolor": "#E5ECF6",
           "radialaxis": {
            "gridcolor": "white",
            "linecolor": "white",
            "ticks": ""
           }
          },
          "scene": {
           "xaxis": {
            "backgroundcolor": "#E5ECF6",
            "gridcolor": "white",
            "gridwidth": 2,
            "linecolor": "white",
            "showbackground": true,
            "ticks": "",
            "zerolinecolor": "white"
           },
           "yaxis": {
            "backgroundcolor": "#E5ECF6",
            "gridcolor": "white",
            "gridwidth": 2,
            "linecolor": "white",
            "showbackground": true,
            "ticks": "",
            "zerolinecolor": "white"
           },
           "zaxis": {
            "backgroundcolor": "#E5ECF6",
            "gridcolor": "white",
            "gridwidth": 2,
            "linecolor": "white",
            "showbackground": true,
            "ticks": "",
            "zerolinecolor": "white"
           }
          },
          "shapedefaults": {
           "line": {
            "color": "#2a3f5f"
           }
          },
          "ternary": {
           "aaxis": {
            "gridcolor": "white",
            "linecolor": "white",
            "ticks": ""
           },
           "baxis": {
            "gridcolor": "white",
            "linecolor": "white",
            "ticks": ""
           },
           "bgcolor": "#E5ECF6",
           "caxis": {
            "gridcolor": "white",
            "linecolor": "white",
            "ticks": ""
           }
          },
          "title": {
           "x": 0.05
          },
          "xaxis": {
           "automargin": true,
           "gridcolor": "white",
           "linecolor": "white",
           "ticks": "",
           "title": {
            "standoff": 15
           },
           "zerolinecolor": "white",
           "zerolinewidth": 2
          },
          "yaxis": {
           "automargin": true,
           "gridcolor": "white",
           "linecolor": "white",
           "ticks": "",
           "title": {
            "standoff": 15
           },
           "zerolinecolor": "white",
           "zerolinewidth": 2
          }
         }
        },
        "title": {
         "text": "Popular POIs Around Westminster Abbey"
        }
       }
      },
      "text/html": [
       "<div>                            <div id=\"ac5b172a-c53a-46fa-9b1d-d0d1eb8c1cd5\" class=\"plotly-graph-div\" style=\"height:525px; width:100%;\"></div>            <script type=\"text/javascript\">                require([\"plotly\"], function(Plotly) {                    window.PLOTLYENV=window.PLOTLYENV || {};                                    if (document.getElementById(\"ac5b172a-c53a-46fa-9b1d-d0d1eb8c1cd5\")) {                    Plotly.newPlot(                        \"ac5b172a-c53a-46fa-9b1d-d0d1eb8c1cd5\",                        [{\"customdata\":[[51.4993,-0.1273,3127.0],[51.5007,-0.1246,512.0],[51.5014,-0.1419,2103.0],[51.508,-0.1281,2246.0],[51.5098,-0.1342,2935.0],[51.5033,-0.1195,4669.0],[51.509,-0.1283,1089.0],[51.4995,-0.1248,1819.0],[51.5049,-0.1357,3268.0],[51.5111,-0.128,1326.0],[51.512,-0.13,3794.0],[51.5053,-0.1168,4685.0],[51.5194,-0.127,3720.0],[51.5081,-0.0972,707.0],[51.5081,-0.0983,2037.0],[51.5055,-0.0754,4448.0],[51.5081,-0.0761,1185.0],[51.5045,-0.0865,2857.0],[51.4967,-0.1764,3015.0],[51.4978,-0.1745,2178.0],[51.4966,-0.1722,574.0],[51.4957,-0.1082,160.0],[51.5048,-0.1744,4835.0],[51.5122,-0.1204,929.0],[51.5145,-0.0804,3663.0],[51.5106,-0.0837,2644.0]],\"hovertemplate\":\"\\u003cb\\u003e%{hovertext}\\u003c\\u002fb\\u003e\\u003cbr\\u003e\\u003cbr\\u003ecategory=Tourist Attraction\\u003cbr\\u003evisit_count=%{customdata[2]}\\u003cbr\\u003elatitude=%{customdata[0]}\\u003cbr\\u003elongitude=%{customdata[1]}\\u003cextra\\u003e\\u003c\\u002fextra\\u003e\",\"hovertext\":[\"Westminster Abbey\",\"Big Ben\",\"Buckingham Palace\",\"Trafalgar Square\",\"Piccadilly Circus\",\"London Eye\",\"The National Gallery\",\"Houses of Parliament\",\"The Mall\",\"Leicester Square\",\"West End Theatre District\",\"Southbank Centre\",\"British Museum\",\"Shakespeare's Globe\",\"Millennium Bridge\",\"Tower Bridge\",\"Tower of London\",\"Shard London\",\"Natural History Museum\",\"Science Museum\",\"Victoria and Albert Museum\",\"Imperial War Museum\",\"Serpentine Galleries\",\"London Transport Museum\",\"The Gherkin\",\"The Walkie Talkie\"],\"lat\":[51.4993,51.5007,51.5014,51.508,51.5098,51.5033,51.509,51.4995,51.5049,51.5111,51.512,51.5053,51.5194,51.5081,51.5081,51.5055,51.5081,51.5045,51.4967,51.4978,51.4966,51.4957,51.5048,51.5122,51.5145,51.5106],\"legendgroup\":\"Tourist Attraction\",\"lon\":[-0.1273,-0.1246,-0.1419,-0.1281,-0.1342,-0.1195,-0.1283,-0.1248,-0.1357,-0.128,-0.13,-0.1168,-0.127,-0.0972,-0.0983,-0.0754,-0.0761,-0.0865,-0.1764,-0.1745,-0.1722,-0.1082,-0.1744,-0.1204,-0.0804,-0.0837],\"marker\":{\"color\":\"#636efa\",\"size\":[3127,512,2103,2246,2935,4669,1089,1819,3268,1326,3794,4685,3720,707,2037,4448,1185,2857,3015,2178,574,160,4835,929,3663,2644],\"sizemode\":\"area\",\"sizeref\":12.36},\"mode\":\"markers\",\"name\":\"Tourist Attraction\",\"showlegend\":true,\"subplot\":\"mapbox\",\"type\":\"scattermapbox\"},{\"customdata\":[[51.5023,-0.1346,4631.0],[51.5073,-0.1657,2095.0],[51.5069,-0.1427,3212.0],[51.5313,-0.1569,4739.0],[51.5058,-0.1878,2260.0],[51.5605,-0.1657,335.0],[51.5238,-0.1249,4944.0]],\"hovertemplate\":\"\\u003cb\\u003e%{hovertext}\\u003c\\u002fb\\u003e\\u003cbr\\u003e\\u003cbr\\u003ecategory=Park\\u003cbr\\u003evisit_count=%{customdata[2]}\\u003cbr\\u003elatitude=%{customdata[0]}\\u003cbr\\u003elongitude=%{customdata[1]}\\u003cextra\\u003e\\u003c\\u002fextra\\u003e\",\"hovertext\":[\"St. James's Park\",\"Hyde Park\",\"Green Park\",\"Regent's Park\",\"Kensington Gardens\",\"Hampstead Heath\",\"Russell Square\"],\"lat\":[51.5023,51.5073,51.5069,51.5313,51.5058,51.5605,51.5238],\"legendgroup\":\"Park\",\"lon\":[-0.1346,-0.1657,-0.1427,-0.1569,-0.1878,-0.1657,-0.1249],\"marker\":{\"color\":\"#EF553B\",\"size\":[4631,2095,3212,4739,2260,335,4944],\"sizemode\":\"area\",\"sizeref\":12.36},\"mode\":\"markers\",\"name\":\"Park\",\"showlegend\":true,\"subplot\":\"mapbox\",\"type\":\"scattermapbox\"},{\"customdata\":[[51.4964,-0.1431,1188.0],[51.508,-0.1247,249.0],[51.5154,-0.1757,1630.0],[51.5036,-0.1137,4085.0],[51.5312,-0.1241,694.0],[51.5175,-0.1192,3003.0]],\"hovertemplate\":\"\\u003cb\\u003e%{hovertext}\\u003c\\u002fb\\u003e\\u003cbr\\u003e\\u003cbr\\u003ecategory=Transport\\u003cbr\\u003evisit_count=%{customdata[2]}\\u003cbr\\u003elatitude=%{customdata[0]}\\u003cbr\\u003elongitude=%{customdata[1]}\\u003cextra\\u003e\\u003c\\u002fextra\\u003e\",\"hovertext\":[\"Victoria Station\",\"Charing Cross Station\",\"Paddington Station\",\"Waterloo Station\",\"King's Cross Station\",\"Holborn Station\"],\"lat\":[51.4964,51.508,51.5154,51.5036,51.5312,51.5175],\"legendgroup\":\"Transport\",\"lon\":[-0.1431,-0.1247,-0.1757,-0.1137,-0.1241,-0.1192],\"marker\":{\"color\":\"#00cc96\",\"size\":[1188,249,1630,4085,694,3003],\"sizemode\":\"area\",\"sizeref\":12.36},\"mode\":\"markers\",\"name\":\"Transport\",\"showlegend\":true,\"subplot\":\"mapbox\",\"type\":\"scattermapbox\"},{\"customdata\":[[51.5154,-0.1419,2237.0],[51.5115,-0.1234,4741.0],[51.5136,-0.1312,2561.0],[51.5414,-0.1455,2813.0],[51.4995,-0.1633,3949.0],[51.5134,-0.1407,552.0],[51.5178,-0.2059,3604.0],[51.5185,-0.1358,2838.0]],\"hovertemplate\":\"\\u003cb\\u003e%{hovertext}\\u003c\\u002fb\\u003e\\u003cbr\\u003e\\u003cbr\\u003ecategory=Shopping\\u003cbr\\u003evisit_count=%{customdata[2]}\\u003cbr\\u003elatitude=%{customdata[0]}\\u003cbr\\u003elongitude=%{customdata[1]}\\u003cextra\\u003e\\u003c\\u002fextra\\u003e\",\"hovertext\":[\"Oxford Circus\",\"Covent Garden\",\"Soho\",\"Camden Market\",\"Harrods\",\"Carnaby Street\",\"Portobello Road Market\",\"Fitzrovia\"],\"lat\":[51.5154,51.5115,51.5136,51.5414,51.4995,51.5134,51.5178,51.5185],\"legendgroup\":\"Shopping\",\"lon\":[-0.1419,-0.1234,-0.1312,-0.1455,-0.1633,-0.1407,-0.2059,-0.1358],\"marker\":{\"color\":\"#ab63fa\",\"size\":[2237,4741,2561,2813,3949,552,3604,2838],\"sizemode\":\"area\",\"sizeref\":12.36},\"mode\":\"markers\",\"name\":\"Shopping\",\"showlegend\":true,\"subplot\":\"mapbox\",\"type\":\"scattermapbox\"},{\"lat\":[51.4993,51.5007,51.5014,51.508,51.5023,51.5073,51.4964,51.5098,51.5033,51.509,51.4995,51.5049,51.5069,51.5313,51.5154,51.5115,51.5111,51.5136,51.512,51.508,51.5154,51.5053,51.5036,51.5312,51.5194,51.5081,51.5081,51.5055,51.5081,51.5045,51.5414,51.4995,51.4967,51.4978,51.4966,51.4957,51.5058,51.5605,51.5048,51.5134,51.5178,51.5175,51.5238,51.5185,51.5122,51.5145,51.5106],\"lon\":[-0.1273,-0.1246,-0.1419,-0.1281,-0.1346,-0.1657,-0.1431,-0.1342,-0.1195,-0.1283,-0.1248,-0.1357,-0.1427,-0.1569,-0.1419,-0.1234,-0.128,-0.1312,-0.13,-0.1247,-0.1757,-0.1168,-0.1137,-0.1241,-0.127,-0.0972,-0.0983,-0.0754,-0.0761,-0.0865,-0.1455,-0.1633,-0.1764,-0.1745,-0.1722,-0.1082,-0.1878,-0.1657,-0.1744,-0.1407,-0.2059,-0.1192,-0.1249,-0.1358,-0.1204,-0.0804,-0.0837],\"marker\":{\"color\":\"red\",\"size\":10},\"mode\":\"markers\",\"name\":\"POI Markers\",\"text\":[\"Westminster Abbey\",\"Big Ben\",\"Buckingham Palace\",\"Trafalgar Square\",\"St. James's Park\",\"Hyde Park\",\"Victoria Station\",\"Piccadilly Circus\",\"London Eye\",\"The National Gallery\",\"Houses of Parliament\",\"The Mall\",\"Green Park\",\"Regent's Park\",\"Oxford Circus\",\"Covent Garden\",\"Leicester Square\",\"Soho\",\"West End Theatre District\",\"Charing Cross Station\",\"Paddington Station\",\"Southbank Centre\",\"Waterloo Station\",\"King's Cross Station\",\"British Museum\",\"Shakespeare's Globe\",\"Millennium Bridge\",\"Tower Bridge\",\"Tower of London\",\"Shard London\",\"Camden Market\",\"Harrods\",\"Natural History Museum\",\"Science Museum\",\"Victoria and Albert Museum\",\"Imperial War Museum\",\"Kensington Gardens\",\"Hampstead Heath\",\"Serpentine Galleries\",\"Carnaby Street\",\"Portobello Road Market\",\"Holborn Station\",\"Russell Square\",\"Fitzrovia\",\"London Transport Museum\",\"The Gherkin\",\"The Walkie Talkie\"],\"type\":\"scattermapbox\"}],                        {\"template\":{\"data\":{\"histogram2dcontour\":[{\"type\":\"histogram2dcontour\",\"colorbar\":{\"outlinewidth\":0,\"ticks\":\"\"},\"colorscale\":[[0.0,\"#0d0887\"],[0.1111111111111111,\"#46039f\"],[0.2222222222222222,\"#7201a8\"],[0.3333333333333333,\"#9c179e\"],[0.4444444444444444,\"#bd3786\"],[0.5555555555555556,\"#d8576b\"],[0.6666666666666666,\"#ed7953\"],[0.7777777777777778,\"#fb9f3a\"],[0.8888888888888888,\"#fdca26\"],[1.0,\"#f0f921\"]]}],\"choropleth\":[{\"type\":\"choropleth\",\"colorbar\":{\"outlinewidth\":0,\"ticks\":\"\"}}],\"histogram2d\":[{\"type\":\"histogram2d\",\"colorbar\":{\"outlinewidth\":0,\"ticks\":\"\"},\"colorscale\":[[0.0,\"#0d0887\"],[0.1111111111111111,\"#46039f\"],[0.2222222222222222,\"#7201a8\"],[0.3333333333333333,\"#9c179e\"],[0.4444444444444444,\"#bd3786\"],[0.5555555555555556,\"#d8576b\"],[0.6666666666666666,\"#ed7953\"],[0.7777777777777778,\"#fb9f3a\"],[0.8888888888888888,\"#fdca26\"],[1.0,\"#f0f921\"]]}],\"heatmap\":[{\"type\":\"heatmap\",\"colorbar\":{\"outlinewidth\":0,\"ticks\":\"\"},\"colorscale\":[[0.0,\"#0d0887\"],[0.1111111111111111,\"#46039f\"],[0.2222222222222222,\"#7201a8\"],[0.3333333333333333,\"#9c179e\"],[0.4444444444444444,\"#bd3786\"],[0.5555555555555556,\"#d8576b\"],[0.6666666666666666,\"#ed7953\"],[0.7777777777777778,\"#fb9f3a\"],[0.8888888888888888,\"#fdca26\"],[1.0,\"#f0f921\"]]}],\"heatmapgl\":[{\"type\":\"heatmapgl\",\"colorbar\":{\"outlinewidth\":0,\"ticks\":\"\"},\"colorscale\":[[0.0,\"#0d0887\"],[0.1111111111111111,\"#46039f\"],[0.2222222222222222,\"#7201a8\"],[0.3333333333333333,\"#9c179e\"],[0.4444444444444444,\"#bd3786\"],[0.5555555555555556,\"#d8576b\"],[0.6666666666666666,\"#ed7953\"],[0.7777777777777778,\"#fb9f3a\"],[0.8888888888888888,\"#fdca26\"],[1.0,\"#f0f921\"]]}],\"contourcarpet\":[{\"type\":\"contourcarpet\",\"colorbar\":{\"outlinewidth\":0,\"ticks\":\"\"}}],\"contour\":[{\"type\":\"contour\",\"colorbar\":{\"outlinewidth\":0,\"ticks\":\"\"},\"colorscale\":[[0.0,\"#0d0887\"],[0.1111111111111111,\"#46039f\"],[0.2222222222222222,\"#7201a8\"],[0.3333333333333333,\"#9c179e\"],[0.4444444444444444,\"#bd3786\"],[0.5555555555555556,\"#d8576b\"],[0.6666666666666666,\"#ed7953\"],[0.7777777777777778,\"#fb9f3a\"],[0.8888888888888888,\"#fdca26\"],[1.0,\"#f0f921\"]]}],\"surface\":[{\"type\":\"surface\",\"colorbar\":{\"outlinewidth\":0,\"ticks\":\"\"},\"colorscale\":[[0.0,\"#0d0887\"],[0.1111111111111111,\"#46039f\"],[0.2222222222222222,\"#7201a8\"],[0.3333333333333333,\"#9c179e\"],[0.4444444444444444,\"#bd3786\"],[0.5555555555555556,\"#d8576b\"],[0.6666666666666666,\"#ed7953\"],[0.7777777777777778,\"#fb9f3a\"],[0.8888888888888888,\"#fdca26\"],[1.0,\"#f0f921\"]]}],\"mesh3d\":[{\"type\":\"mesh3d\",\"colorbar\":{\"outlinewidth\":0,\"ticks\":\"\"}}],\"scatter\":[{\"fillpattern\":{\"fillmode\":\"overlay\",\"size\":10,\"solidity\":0.2},\"type\":\"scatter\"}],\"parcoords\":[{\"type\":\"parcoords\",\"line\":{\"colorbar\":{\"outlinewidth\":0,\"ticks\":\"\"}}}],\"scatterpolargl\":[{\"type\":\"scatterpolargl\",\"marker\":{\"colorbar\":{\"outlinewidth\":0,\"ticks\":\"\"}}}],\"bar\":[{\"error_x\":{\"color\":\"#2a3f5f\"},\"error_y\":{\"color\":\"#2a3f5f\"},\"marker\":{\"line\":{\"color\":\"#E5ECF6\",\"width\":0.5},\"pattern\":{\"fillmode\":\"overlay\",\"size\":10,\"solidity\":0.2}},\"type\":\"bar\"}],\"scattergeo\":[{\"type\":\"scattergeo\",\"marker\":{\"colorbar\":{\"outlinewidth\":0,\"ticks\":\"\"}}}],\"scatterpolar\":[{\"type\":\"scatterpolar\",\"marker\":{\"colorbar\":{\"outlinewidth\":0,\"ticks\":\"\"}}}],\"histogram\":[{\"marker\":{\"pattern\":{\"fillmode\":\"overlay\",\"size\":10,\"solidity\":0.2}},\"type\":\"histogram\"}],\"scattergl\":[{\"type\":\"scattergl\",\"marker\":{\"colorbar\":{\"outlinewidth\":0,\"ticks\":\"\"}}}],\"scatter3d\":[{\"type\":\"scatter3d\",\"line\":{\"colorbar\":{\"outlinewidth\":0,\"ticks\":\"\"}},\"marker\":{\"colorbar\":{\"outlinewidth\":0,\"ticks\":\"\"}}}],\"scattermapbox\":[{\"type\":\"scattermapbox\",\"marker\":{\"colorbar\":{\"outlinewidth\":0,\"ticks\":\"\"}}}],\"scatterternary\":[{\"type\":\"scatterternary\",\"marker\":{\"colorbar\":{\"outlinewidth\":0,\"ticks\":\"\"}}}],\"scattercarpet\":[{\"type\":\"scattercarpet\",\"marker\":{\"colorbar\":{\"outlinewidth\":0,\"ticks\":\"\"}}}],\"carpet\":[{\"aaxis\":{\"endlinecolor\":\"#2a3f5f\",\"gridcolor\":\"white\",\"linecolor\":\"white\",\"minorgridcolor\":\"white\",\"startlinecolor\":\"#2a3f5f\"},\"baxis\":{\"endlinecolor\":\"#2a3f5f\",\"gridcolor\":\"white\",\"linecolor\":\"white\",\"minorgridcolor\":\"white\",\"startlinecolor\":\"#2a3f5f\"},\"type\":\"carpet\"}],\"table\":[{\"cells\":{\"fill\":{\"color\":\"#EBF0F8\"},\"line\":{\"color\":\"white\"}},\"header\":{\"fill\":{\"color\":\"#C8D4E3\"},\"line\":{\"color\":\"white\"}},\"type\":\"table\"}],\"barpolar\":[{\"marker\":{\"line\":{\"color\":\"#E5ECF6\",\"width\":0.5},\"pattern\":{\"fillmode\":\"overlay\",\"size\":10,\"solidity\":0.2}},\"type\":\"barpolar\"}],\"pie\":[{\"automargin\":true,\"type\":\"pie\"}]},\"layout\":{\"autotypenumbers\":\"strict\",\"colorway\":[\"#636efa\",\"#EF553B\",\"#00cc96\",\"#ab63fa\",\"#FFA15A\",\"#19d3f3\",\"#FF6692\",\"#B6E880\",\"#FF97FF\",\"#FECB52\"],\"font\":{\"color\":\"#2a3f5f\"},\"hovermode\":\"closest\",\"hoverlabel\":{\"align\":\"left\"},\"paper_bgcolor\":\"white\",\"plot_bgcolor\":\"#E5ECF6\",\"polar\":{\"bgcolor\":\"#E5ECF6\",\"angularaxis\":{\"gridcolor\":\"white\",\"linecolor\":\"white\",\"ticks\":\"\"},\"radialaxis\":{\"gridcolor\":\"white\",\"linecolor\":\"white\",\"ticks\":\"\"}},\"ternary\":{\"bgcolor\":\"#E5ECF6\",\"aaxis\":{\"gridcolor\":\"white\",\"linecolor\":\"white\",\"ticks\":\"\"},\"baxis\":{\"gridcolor\":\"white\",\"linecolor\":\"white\",\"ticks\":\"\"},\"caxis\":{\"gridcolor\":\"white\",\"linecolor\":\"white\",\"ticks\":\"\"}},\"coloraxis\":{\"colorbar\":{\"outlinewidth\":0,\"ticks\":\"\"}},\"colorscale\":{\"sequential\":[[0.0,\"#0d0887\"],[0.1111111111111111,\"#46039f\"],[0.2222222222222222,\"#7201a8\"],[0.3333333333333333,\"#9c179e\"],[0.4444444444444444,\"#bd3786\"],[0.5555555555555556,\"#d8576b\"],[0.6666666666666666,\"#ed7953\"],[0.7777777777777778,\"#fb9f3a\"],[0.8888888888888888,\"#fdca26\"],[1.0,\"#f0f921\"]],\"sequentialminus\":[[0.0,\"#0d0887\"],[0.1111111111111111,\"#46039f\"],[0.2222222222222222,\"#7201a8\"],[0.3333333333333333,\"#9c179e\"],[0.4444444444444444,\"#bd3786\"],[0.5555555555555556,\"#d8576b\"],[0.6666666666666666,\"#ed7953\"],[0.7777777777777778,\"#fb9f3a\"],[0.8888888888888888,\"#fdca26\"],[1.0,\"#f0f921\"]],\"diverging\":[[0,\"#8e0152\"],[0.1,\"#c51b7d\"],[0.2,\"#de77ae\"],[0.3,\"#f1b6da\"],[0.4,\"#fde0ef\"],[0.5,\"#f7f7f7\"],[0.6,\"#e6f5d0\"],[0.7,\"#b8e186\"],[0.8,\"#7fbc41\"],[0.9,\"#4d9221\"],[1,\"#276419\"]]},\"xaxis\":{\"gridcolor\":\"white\",\"linecolor\":\"white\",\"ticks\":\"\",\"title\":{\"standoff\":15},\"zerolinecolor\":\"white\",\"automargin\":true,\"zerolinewidth\":2},\"yaxis\":{\"gridcolor\":\"white\",\"linecolor\":\"white\",\"ticks\":\"\",\"title\":{\"standoff\":15},\"zerolinecolor\":\"white\",\"automargin\":true,\"zerolinewidth\":2},\"scene\":{\"xaxis\":{\"backgroundcolor\":\"#E5ECF6\",\"gridcolor\":\"white\",\"linecolor\":\"white\",\"showbackground\":true,\"ticks\":\"\",\"zerolinecolor\":\"white\",\"gridwidth\":2},\"yaxis\":{\"backgroundcolor\":\"#E5ECF6\",\"gridcolor\":\"white\",\"linecolor\":\"white\",\"showbackground\":true,\"ticks\":\"\",\"zerolinecolor\":\"white\",\"gridwidth\":2},\"zaxis\":{\"backgroundcolor\":\"#E5ECF6\",\"gridcolor\":\"white\",\"linecolor\":\"white\",\"showbackground\":true,\"ticks\":\"\",\"zerolinecolor\":\"white\",\"gridwidth\":2}},\"shapedefaults\":{\"line\":{\"color\":\"#2a3f5f\"}},\"annotationdefaults\":{\"arrowcolor\":\"#2a3f5f\",\"arrowhead\":0,\"arrowwidth\":1},\"geo\":{\"bgcolor\":\"white\",\"landcolor\":\"#E5ECF6\",\"subunitcolor\":\"white\",\"showland\":true,\"showlakes\":true,\"lakecolor\":\"white\"},\"title\":{\"x\":0.05},\"mapbox\":{\"style\":\"light\"}}},\"mapbox\":{\"domain\":{\"x\":[0.0,1.0],\"y\":[0.0,1.0]},\"center\":{\"lat\":51.5103829787234,\"lon\":-0.1331148936170213},\"zoom\":14,\"style\":\"open-street-map\"},\"legend\":{\"title\":{\"text\":\"category\"},\"tracegroupgap\":0,\"itemsizing\":\"constant\"},\"title\":{\"text\":\"Popular POIs Around Westminster Abbey\"}},                        {\"responsive\": true}                    ).then(function(){\n",
       "                            \n",
       "var gd = document.getElementById('ac5b172a-c53a-46fa-9b1d-d0d1eb8c1cd5');\n",
       "var x = new MutationObserver(function (mutations, observer) {{\n",
       "        var display = window.getComputedStyle(gd).display;\n",
       "        if (!display || display === 'none') {{\n",
       "            console.log([gd, 'removed!']);\n",
       "            Plotly.purge(gd);\n",
       "            observer.disconnect();\n",
       "        }}\n",
       "}});\n",
       "\n",
       "// Listen for the removal of the full notebook cells\n",
       "var notebookContainer = gd.closest('#notebook-container');\n",
       "if (notebookContainer) {{\n",
       "    x.observe(notebookContainer, {childList: true});\n",
       "}}\n",
       "\n",
       "// Listen for the clearing of the current output cell\n",
       "var outputEl = gd.closest('.output');\n",
       "if (outputEl) {{\n",
       "    x.observe(outputEl, {childList: true});\n",
       "}}\n",
       "\n",
       "                        })                };                });            </script>        </div>"
      ]
     },
     "metadata": {},
     "output_type": "display_data"
    },
    {
     "name": "stdout",
     "output_type": "stream",
     "text": [
      "Engagement Statistics by POI Category\n",
      "             category  total_visits\n",
      "0                Park         22216\n",
      "1            Shopping         23295\n",
      "2  Tourist Attraction         64525\n",
      "3           Transport         10849\n"
     ]
    }
   ],
   "source": [
    "import numpy as np\n",
    "import pandas as pd\n",
    "import plotly.express as px\n",
    "import plotly.graph_objects as go\n",
    "\n",
    "# Step 1: Define Actual POIs for a 10 km Radius Around Westminster Abbey\n",
    "westminster_pois = [\n",
    "    {\"name\": \"Westminster Abbey\", \"category\": \"Tourist Attraction\", \"latitude\": 51.4993, \"longitude\": -0.1273},\n",
    "    {\"name\": \"Big Ben\", \"category\": \"Tourist Attraction\", \"latitude\": 51.5007, \"longitude\": -0.1246},\n",
    "    {\"name\": \"Buckingham Palace\", \"category\": \"Tourist Attraction\", \"latitude\": 51.5014, \"longitude\": -0.1419},\n",
    "    {\"name\": \"Trafalgar Square\", \"category\": \"Tourist Attraction\", \"latitude\": 51.5080, \"longitude\": -0.1281},\n",
    "    {\"name\": \"St. James's Park\", \"category\": \"Park\", \"latitude\": 51.5023, \"longitude\": -0.1346},\n",
    "    {\"name\": \"Hyde Park\", \"category\": \"Park\", \"latitude\": 51.5073, \"longitude\": -0.1657},\n",
    "    {\"name\": \"Victoria Station\", \"category\": \"Transport\", \"latitude\": 51.4964, \"longitude\": -0.1431},\n",
    "    {\"name\": \"Piccadilly Circus\", \"category\": \"Tourist Attraction\", \"latitude\": 51.5098, \"longitude\": -0.1342},\n",
    "    {\"name\": \"London Eye\", \"category\": \"Tourist Attraction\", \"latitude\": 51.5033, \"longitude\": -0.1195},\n",
    "    {\"name\": \"The National Gallery\", \"category\": \"Tourist Attraction\", \"latitude\": 51.5090, \"longitude\": -0.1283},\n",
    "    {\"name\": \"Houses of Parliament\", \"category\": \"Tourist Attraction\", \"latitude\": 51.4995, \"longitude\": -0.1248},\n",
    "    {\"name\": \"The Mall\", \"category\": \"Tourist Attraction\", \"latitude\": 51.5049, \"longitude\": -0.1357},\n",
    "    {\"name\": \"Green Park\", \"category\": \"Park\", \"latitude\": 51.5069, \"longitude\": -0.1427},\n",
    "    {\"name\": \"Regent's Park\", \"category\": \"Park\", \"latitude\": 51.5313, \"longitude\": -0.1569},\n",
    "    {\"name\": \"Oxford Circus\", \"category\": \"Shopping\", \"latitude\": 51.5154, \"longitude\": -0.1419},\n",
    "    {\"name\": \"Covent Garden\", \"category\": \"Shopping\", \"latitude\": 51.5115, \"longitude\": -0.1234},\n",
    "    {\"name\": \"Leicester Square\", \"category\": \"Tourist Attraction\", \"latitude\": 51.5111, \"longitude\": -0.1280},\n",
    "    {\"name\": \"Soho\", \"category\": \"Shopping\", \"latitude\": 51.5136, \"longitude\": -0.1312},\n",
    "    {\"name\": \"West End Theatre District\", \"category\": \"Tourist Attraction\", \"latitude\": 51.5120, \"longitude\": -0.1300},\n",
    "    {\"name\": \"Charing Cross Station\", \"category\": \"Transport\", \"latitude\": 51.5080, \"longitude\": -0.1247},\n",
    "    {\"name\": \"Paddington Station\", \"category\": \"Transport\", \"latitude\": 51.5154, \"longitude\": -0.1757},\n",
    "    {\"name\": \"Southbank Centre\", \"category\": \"Tourist Attraction\", \"latitude\": 51.5053, \"longitude\": -0.1168},\n",
    "    {\"name\": \"Waterloo Station\", \"category\": \"Transport\", \"latitude\": 51.5036, \"longitude\": -0.1137},\n",
    "    {\"name\": \"King's Cross Station\", \"category\": \"Transport\", \"latitude\": 51.5312, \"longitude\": -0.1241},\n",
    "    {\"name\": \"British Museum\", \"category\": \"Tourist Attraction\", \"latitude\": 51.5194, \"longitude\": -0.1270},\n",
    "    {\"name\": \"Shakespeare's Globe\", \"category\": \"Tourist Attraction\", \"latitude\": 51.5081, \"longitude\": -0.0972},\n",
    "    {\"name\": \"Millennium Bridge\", \"category\": \"Tourist Attraction\", \"latitude\": 51.5081, \"longitude\": -0.0983},\n",
    "    {\"name\": \"Tower Bridge\", \"category\": \"Tourist Attraction\", \"latitude\": 51.5055, \"longitude\": -0.0754},\n",
    "    {\"name\": \"Tower of London\", \"category\": \"Tourist Attraction\", \"latitude\": 51.5081, \"longitude\": -0.0761},\n",
    "    {\"name\": \"Shard London\", \"category\": \"Tourist Attraction\", \"latitude\": 51.5045, \"longitude\": -0.0865},\n",
    "    {\"name\": \"Camden Market\", \"category\": \"Shopping\", \"latitude\": 51.5414, \"longitude\": -0.1455},\n",
    "    {\"name\": \"Harrods\", \"category\": \"Shopping\", \"latitude\": 51.4995, \"longitude\": -0.1633},\n",
    "    {\"name\": \"Natural History Museum\", \"category\": \"Tourist Attraction\", \"latitude\": 51.4967, \"longitude\": -0.1764},\n",
    "    {\"name\": \"Science Museum\", \"category\": \"Tourist Attraction\", \"latitude\": 51.4978, \"longitude\": -0.1745},\n",
    "    {\"name\": \"Victoria and Albert Museum\", \"category\": \"Tourist Attraction\", \"latitude\": 51.4966, \"longitude\": -0.1722},\n",
    "    {\"name\": \"Imperial War Museum\", \"category\": \"Tourist Attraction\", \"latitude\": 51.4957, \"longitude\": -0.1082},\n",
    "    {\"name\": \"Kensington Gardens\", \"category\": \"Park\", \"latitude\": 51.5058, \"longitude\": -0.1878},\n",
    "    {\"name\": \"Hampstead Heath\", \"category\": \"Park\", \"latitude\": 51.5605, \"longitude\": -0.1657},\n",
    "    {\"name\": \"Serpentine Galleries\", \"category\": \"Tourist Attraction\", \"latitude\": 51.5048, \"longitude\": -0.1744},\n",
    "    {\"name\": \"Carnaby Street\", \"category\": \"Shopping\", \"latitude\": 51.5134, \"longitude\": -0.1407},\n",
    "    {\"name\": \"Portobello Road Market\", \"category\": \"Shopping\", \"latitude\": 51.5178, \"longitude\": -0.2059},\n",
    "    {\"name\": \"Holborn Station\", \"category\": \"Transport\", \"latitude\": 51.5175, \"longitude\": -0.1192},\n",
    "    {\"name\": \"Russell Square\", \"category\": \"Park\", \"latitude\": 51.5238, \"longitude\": -0.1249},\n",
    "    {\"name\": \"Fitzrovia\", \"category\": \"Shopping\", \"latitude\": 51.5185, \"longitude\": -0.1358},\n",
    "    {\"name\": \"London Transport Museum\", \"category\": \"Tourist Attraction\", \"latitude\": 51.5122, \"longitude\": -0.1204},\n",
    "    {\"name\": \"The Gherkin\", \"category\": \"Tourist Attraction\", \"latitude\": 51.5145, \"longitude\": -0.0804},\n",
    "    {\"name\": \"The Walkie Talkie\", \"category\": \"Tourist Attraction\", \"latitude\": 51.5106, \"longitude\": -0.0837}\n",
    "]\n",
    "\n",
    "# Convert POIs to a DataFrame\n",
    "poi_data = pd.DataFrame(westminster_pois)\n",
    "poi_data[\"visit_count\"] = np.random.randint(100, 5000, len(poi_data))  # Random visit counts\n",
    "\n",
    "# Step 2: Visualize POIs on a Map Using Plotly\n",
    "fig = px.scatter_mapbox(\n",
    "    poi_data,\n",
    "    lat=\"latitude\",\n",
    "    lon=\"longitude\",\n",
    "    color=\"category\",\n",
    "    size=\"visit_count\",\n",
    "    hover_name=\"name\",\n",
    "    hover_data={\"latitude\": True, \"longitude\": True, \"visit_count\": True},\n",
    "    mapbox_style=\"open-street-map\",\n",
    "    zoom=14,\n",
    "    title=\"Popular POIs Around Westminster Abbey\"\n",
    ")\n",
    "\n",
    "# Add markers for POIs\n",
    "fig.add_scattermapbox(\n",
    "    lat=poi_data['latitude'],\n",
    "    lon=poi_data['longitude'],\n",
    "    mode='markers',\n",
    "    marker=dict(size=10, color='red'),\n",
    "    name='POI Markers',\n",
    "    text=poi_data['name']\n",
    ")\n",
    "\n",
    "fig.show()\n",
    "\n",
    "# Step 3: Analyze Types of Places and People Engaging with POIs\n",
    "def analyze_poi_engagement(poi_df):\n",
    "    engagement_stats = poi_df.groupby(\"category\")[\"visit_count\"].sum().reset_index()\n",
    "    engagement_stats.rename(columns={\"visit_count\": \"total_visits\"}, inplace=True)\n",
    "    print(\"Engagement Statistics by POI Category\")\n",
    "    print(engagement_stats)\n",
    "\n",
    "analyze_poi_engagement(poi_data)\n"
   ]
  }
 ],
 "metadata": {
  "kernelspec": {
   "display_name": "env1",
   "language": "python",
   "name": "python3"
  },
  "language_info": {
   "codemirror_mode": {
    "name": "ipython",
    "version": 3
   },
   "file_extension": ".py",
   "mimetype": "text/x-python",
   "name": "python",
   "nbconvert_exporter": "python",
   "pygments_lexer": "ipython3",
   "version": "3.12.3"
  }
 },
 "nbformat": 4,
 "nbformat_minor": 2
}
